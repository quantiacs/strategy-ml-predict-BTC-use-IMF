{
 "cells": [
  {
   "cell_type": "markdown",
   "metadata": {},
   "source": [
    "# Machine Learning - predict futures BTC use IMF Commodity Data\n",
    "\n",
    "**Strategy idea**: We will open crypto futures BTC positions as predicted by the RidgeClassifier.\n",
    "\n",
    "**Features for learning**:\n",
    "\n",
    "5 best features use RFE (from sklearn.feature_selection import RFE)\n",
    "\n",
    "Cryptofutures data:\n",
    "* a trend indicator;\n",
    "* the stochastic oscillator;\n",
    "* volatility;\n",
    "* volume.\n",
    "\n",
    "IMF Commodity Data (monthly data)\n",
    "\n",
    "* sma\n",
    "* log\n"
   ]
  },
  {
   "cell_type": "code",
   "execution_count": null,
   "metadata": {},
   "outputs": [],
   "source": [
    "%%javascript\n",
    "window.IPython && (IPython.OutputArea.prototype._should_scroll = function(lines) { return false; })\n",
    "// disable widget scrolling"
   ]
  },
  {
   "cell_type": "code",
   "execution_count": 1,
   "metadata": {},
   "outputs": [
    {
     "data": {
      "text/html": [
       "        <script type=\"text/javascript\">\n",
       "        window.PlotlyConfig = {MathJaxConfig: 'local'};\n",
       "        if (window.MathJax) {MathJax.Hub.Config({SVG: {font: \"STIX-Web\"}});}\n",
       "        if (typeof require !== 'undefined') {\n",
       "        require.undef(\"plotly\");\n",
       "        requirejs.config({\n",
       "            paths: {\n",
       "                'plotly': ['https://cdn.plot.ly/plotly-latest.min']\n",
       "            }\n",
       "        });\n",
       "        require(['plotly'], function(Plotly) {\n",
       "            window._Plotly = Plotly;\n",
       "        });\n",
       "        }\n",
       "        </script>\n",
       "        "
      ]
     },
     "metadata": {},
     "output_type": "display_data"
    },
    {
     "name": "stdout",
     "output_type": "stream",
     "text": [
      "Run the last iteration...\n"
     ]
    },
    {
     "name": "stderr",
     "output_type": "stream",
     "text": [
      "100% (178352 of 178352) |################| Elapsed Time: 0:00:00 Time:  0:00:00\n",
      "100% (231164 of 231164) |################| Elapsed Time: 0:00:00 Time:  0:00:00\n",
      "100% (4172 of 4172) |####################| Elapsed Time: 0:00:00 Time:  0:00:00\n"
     ]
    },
    {
     "name": "stdout",
     "output_type": "stream",
     "text": [
      "Output cleaning...\n",
      "fix uniq\n",
      "ffill if the current price is None...\n",
      "Check missed dates...\n",
      "Ok.\n",
      "Normalization...\n",
      "Output cleaning is complete.\n",
      "Write output: /root/fractions.nc.gz\n",
      "State saved.\n",
      "---\n",
      "Run First Iteration...\n"
     ]
    },
    {
     "name": "stderr",
     "output_type": "stream",
     "text": [
      "100% (17072 of 17072) |##################| Elapsed Time: 0:00:00 Time:  0:00:00\n",
      "100% (177308 of 177308) |################| Elapsed Time: 0:00:00 Time:  0:00:00\n"
     ]
    },
    {
     "name": "stdout",
     "output_type": "stream",
     "text": [
      "---\n",
      "Run all iterations...\n",
      "Load data...\n"
     ]
    },
    {
     "name": "stderr",
     "output_type": "stream",
     "text": [
      "100% (178352 of 178352) |################| Elapsed Time: 0:00:00 Time:  0:00:00\n",
      "100% (161852 of 161852) |################| Elapsed Time: 0:00:00 Time:  0:00:00\n"
     ]
    },
    {
     "name": "stdout",
     "output_type": "stream",
     "text": [
      "Backtest...\n"
     ]
    },
    {
     "name": "stderr",
     "output_type": "stream",
     "text": [
      "100% (165452 of 165452) |################| Elapsed Time: 0:00:00 Time:  0:00:00\n"
     ]
    },
    {
     "name": "stdout",
     "output_type": "stream",
     "text": [
      "Output cleaning...\n",
      "fix uniq\n",
      "ffill if the current price is None...\n",
      "Check missed dates...\n",
      "Ok.\n",
      "Normalization...\n",
      "Output cleaning is complete.\n",
      "Write output: /root/fractions.nc.gz\n",
      "State saved.\n",
      "---\n",
      "Analyze results...\n",
      "Check...\n",
      "Check missed dates...\n",
      "Ok.\n",
      "Check the sharpe ratio...\n",
      "Period: 2014-01-01 - 2021-05-19\n",
      "Sharpe Ratio = 1.2155878492116858\n",
      "Ok.\n",
      "Check correlation.\n",
      "\n",
      "Ok. This strategy does not correlate with other strategies.\n",
      "---\n",
      "Calc global stats...\n",
      "---\n",
      "Calc stats per asset...\n",
      "Build plots...\n",
      "---\n",
      "Select the asset (or leave blank to display the overall stats):\n"
     ]
    },
    {
     "data": {
      "application/vnd.jupyter.widget-view+json": {
       "model_id": "9e4c9431216647ecafafb806e19b342e",
       "version_major": 2,
       "version_minor": 0
      },
      "text/plain": [
       "interactive(children=(Combobox(value='', description='asset', options=('', 'BTC')), Output()), _dom_classes=('…"
      ]
     },
     "metadata": {},
     "output_type": "display_data"
    },
    {
     "name": "stderr",
     "output_type": "stream",
     "text": [
      "100% (2689 of 2689) |####################| Elapsed Time: 0:00:56 Time:  0:00:56\n"
     ]
    }
   ],
   "source": [
    "import logging\n",
    "\n",
    "import pandas as pd\n",
    "import xarray as xr\n",
    "import numpy as np\n",
    "\n",
    "import qnt.data    as qndata  # load and manipulate data\n",
    "import qnt.backtester as qnbt  # backtester\n",
    "import qnt.stats   as qnstats  # statistical functions for analysis\n",
    "import qnt.ta      as qnta  # indicators library\n",
    "\n",
    "\n",
    "def load_data(period):\n",
    "    def align_data_by_time(data, data_for_align):\n",
    "        data_for_outer = xr.align(data.time, data_for_align, join='outer')[1]\n",
    "        ff = data_for_outer.ffill(dim='time')\n",
    "        r = ff.sel(time=data.time)\n",
    "        return r\n",
    "\n",
    "    crypto_futures = qndata.cryptofutures_load_data(tail=period)\n",
    "    commodity = align_data_by_time(\n",
    "        data=crypto_futures,\n",
    "        data_for_align=qndata.imf_load_commodity_data(tail=period))\n",
    "\n",
    "    return dict(commodity=commodity,\n",
    "                crypto_futures=crypto_futures), crypto_futures.time.values\n",
    "\n",
    "\n",
    "def window(data, max_date: np.datetime64, lookback_period: int):\n",
    "    min_date = max_date - np.timedelta64(lookback_period, 'D')\n",
    "    return dict(\n",
    "        crypto_futures=data['crypto_futures'].copy(True).sel(time=slice(min_date, max_date)),\n",
    "        commodity=data['commodity'].copy(True).sel(time=slice(min_date, max_date))\n",
    "    )\n",
    "\n",
    "\n",
    "def create_model():\n",
    "    from sklearn.linear_model import RidgeClassifier\n",
    "    from sklearn.feature_selection import RFE\n",
    "    model = RidgeClassifier(random_state=18)\n",
    "    count_best_features = 5\n",
    "    rfe = RFE(model, n_features_to_select=count_best_features)\n",
    "    return rfe\n",
    "\n",
    "\n",
    "def get_features(futures_commodity):\n",
    "    data = futures_commodity['crypto_futures']\n",
    "\n",
    "    trend = qnta.roc(qnta.lwma(data.sel(field='close'), 70), 1)\n",
    "\n",
    "    # stochastic oscillator:\n",
    "    k, d = qnta.stochastic(data.sel(field='high'), data.sel(field='low'), data.sel(field='close'), 14)\n",
    "\n",
    "    volatility = qnta.tr(data.sel(field='high'), data.sel(field='low'), data.sel(field='close'))\n",
    "    volatility = volatility / data.sel(field='close')\n",
    "    volatility = qnta.lwma(volatility, 14)\n",
    "\n",
    "    volume = data.sel(field='vol')\n",
    "    volume = qnta.sma(volume, 5) / qnta.sma(volume, 60)\n",
    "    volume = volume.where(np.isfinite(volume), 0)\n",
    "\n",
    "    crypto_features = xr.concat(\n",
    "        [trend, d, volatility, volume],\n",
    "        pd.Index(\n",
    "            ['trend', 'stochastic_d', 'volatility', 'volume'],\n",
    "            name='field'\n",
    "        )\n",
    "    )\n",
    "\n",
    "    data_commodity = futures_commodity['commodity']\n",
    "    data_commodity = data_commodity.rename({'asset': 'field'})\n",
    "\n",
    "    sma = qnta.sma(data_commodity, 30) / qnta.sma(data_commodity, 60)\n",
    "    log = np.log(data_commodity)\n",
    "\n",
    "    commodity_features = xr.concat(\n",
    "        [sma, log],\n",
    "        dim='field'\n",
    "    )\n",
    "\n",
    "    commodity_merge = commodity_features.sel(time=crypto_features.time)\n",
    "    features = xr.concat([crypto_features, commodity_merge], dim='field')\n",
    "    return features.transpose('time', 'field', 'asset')\n",
    "\n",
    "\n",
    "def get_target_classes(futures_commodity):\n",
    "    \"\"\"Builds target classes which will be later predicted.\"\"\"\n",
    "    data = futures_commodity['crypto_futures']\n",
    "\n",
    "    price_current = data.sel(field='close')\n",
    "    price_future = qnta.shift(price_current, -1)\n",
    "\n",
    "    class_positive = 1\n",
    "    class_negative = 0\n",
    "\n",
    "    target_is_price_up = xr.where(price_future > price_current, class_positive, class_negative)\n",
    "\n",
    "    return target_is_price_up\n",
    "\n",
    "\n",
    "def create_and_train_models(futures_commodity):\n",
    "    \"\"\"Create and train the models working on an asset-by-asset basis.\"\"\"\n",
    "\n",
    "    features_all = get_features(futures_commodity)\n",
    "    target_all = get_target_classes(futures_commodity)\n",
    "\n",
    "    models = dict()\n",
    "    asset_name_all = futures_commodity['crypto_futures'].coords['asset'].values\n",
    "    for asset_name in asset_name_all:\n",
    "\n",
    "        # drop missing values:\n",
    "        target_for_asset = target_all.sel(asset=asset_name).dropna('time', 'any')\n",
    "        features_for_asset = features_all.sel(asset=asset_name).dropna('time', 'any')\n",
    "\n",
    "        # align features and targets:\n",
    "        target_for_learn_df, feature_for_learn_df = xr.align(target_for_asset,\n",
    "                                                             features_for_asset,\n",
    "                                                             join='inner')\n",
    "\n",
    "        is_few_data_for_train = len(target_for_learn_df.time) < 10\n",
    "        if is_few_data_for_train:\n",
    "            continue\n",
    "\n",
    "        model = create_model()\n",
    "\n",
    "        try:\n",
    "            model.fit(feature_for_learn_df.values, target_for_learn_df)\n",
    "            models[asset_name] = model\n",
    "        except KeyboardInterrupt as e:\n",
    "            raise e\n",
    "        except:\n",
    "            logging.exception('model training failed')\n",
    "\n",
    "    return models\n",
    "\n",
    "\n",
    "def predict(models, futures_commodity):\n",
    "    \"\"\"Performs prediction and generates output weights.\n",
    "       Generation is performed for several days in order to speed\n",
    "       up the evaluation.\n",
    "    \"\"\"\n",
    "    data = futures_commodity['crypto_futures']\n",
    "    weights = xr.zeros_like(data.sel(field='close'))\n",
    "\n",
    "    asset_name_all = data.coords['asset'].values\n",
    "    for asset_name in asset_name_all:\n",
    "        if asset_name in models:\n",
    "            model = models[asset_name]\n",
    "            features_all = get_features(futures_commodity)\n",
    "            features_cur = features_all.sel(asset=asset_name).dropna('time', 'any')\n",
    "            if len(features_cur.time) < 1:\n",
    "                continue\n",
    "            try:\n",
    "                weights.loc[dict(asset=asset_name, time=features_cur.time.values)] = model.predict(\n",
    "                    features_cur.values)\n",
    "            except KeyboardInterrupt as e:\n",
    "                raise e\n",
    "            except:\n",
    "                logging.exception('model prediction failed')\n",
    "\n",
    "    return weights\n",
    "\n",
    "\n",
    "weights = qnbt.backtest_ml(\n",
    "    train=create_and_train_models,\n",
    "    predict=predict,\n",
    "    train_period=10 * 365,  # the data length for training in calendar days\n",
    "    retrain_interval=365,  # how often we have to retrain models (calendar days)\n",
    "    retrain_interval_after_submit=1,  # how often retrain models after submission during evaluation (calendar days)\n",
    "    predict_each_day=False,  # Is it necessary to call prediction for every day during backtesting?\n",
    "    # Set it to true if you suspect that get_features is looking forward.\n",
    "    competition_type='cryptofutures',  # competition type\n",
    "    lookback_period=365,  # how many calendar days are needed by the predict function to generate the output\n",
    "    start_date='2014-01-01',  # backtest start date\n",
    "    build_plots=True,  # do you need the chart?\n",
    "    load_data=load_data,\n",
    "    window=window,\n",
    ")"
   ]
  }
 ],
 "metadata": {
  "kernelspec": {
   "display_name": "Python 3",
   "language": "python",
   "name": "python3"
  },
  "language_info": {
   "codemirror_mode": {
    "name": "ipython",
    "version": 3
   },
   "file_extension": ".py",
   "mimetype": "text/x-python",
   "name": "python",
   "nbconvert_exporter": "python",
   "pygments_lexer": "ipython3",
   "version": "3.7.10"
  }
 },
 "nbformat": 4,
 "nbformat_minor": 4
}
